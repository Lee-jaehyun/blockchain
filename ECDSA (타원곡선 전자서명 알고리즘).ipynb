{
 "cells": [
  {
   "cell_type": "code",
   "execution_count": 1,
   "metadata": {},
   "outputs": [],
   "source": [
    "import math\n",
    "import random\n",
    "from Crypto.Hash import SHA256"
   ]
  },
  {
   "cell_type": "code",
   "execution_count": null,
   "metadata": {},
   "outputs": [],
   "source": []
  },
  {
   "cell_type": "code",
   "execution_count": 2,
   "metadata": {},
   "outputs": [],
   "source": [
    "# secp256k1의 Domain parameters\n",
    "# y^2 = x^3 + 7 mod m\n",
    "a = 0\n",
    "b = 7\n",
    "m = 0xFFFFFFFFFFFFFFFFFFFFFFFFFFFFFFFFFFFFFFFFFFFFFFFFFFFFFFFEFFFFFC2F\n",
    "G = (0x79BE667EF9DCBBAC55A06295CE870B07029BFCDB2DCE28D959F2815B16F81798,\n",
    "     0x483ADA7726A3C4655DA4FBFC0E1108A8FD17B448A68554199C47D08FFB10D4B8)\n",
    "n = 0xFFFFFFFFFFFFFFFFFFFFFFFFFFFFFFFEBAAEDCE6AF48A03BBFD25E8CD0364141"
   ]
  },
  {
   "cell_type": "code",
   "execution_count": 3,
   "metadata": {},
   "outputs": [],
   "source": [
    "# Additive Operation\n",
    "def addOperation(a, b, p, q, m):\n",
    "    if q == (math.inf, math.inf):\n",
    "        return p\n",
    "    \n",
    "    x1 = p[0]\n",
    "    y1 = p[1]\n",
    "    x2 = q[0]\n",
    "    y2 = q[1]\n",
    "    \n",
    "    if p == q:\n",
    "        # Doubling\n",
    "        # slope (s) = (3 * x1 ^ 2 + a) / (2 * y1) mod m\n",
    "        # 분모의 역원부터 계산한다 (by Fermat's Little Theorem)\n",
    "        # pow() 함수가 내부적으로 Square-and-Multiply 알고리즘을 수행한다.\n",
    "        r = 2 * y1\n",
    "        rInv = pow(r, m-2, m)   # Fermat's Little Theorem\n",
    "        s = (rInv * (3 * (x1 ** 2) + a)) % m\n",
    "    else:\n",
    "        r = x2 - x1\n",
    "        rInv = pow(r, m-2, m)\n",
    "        s = (rInv * (y2 - y1)) % m\n",
    "    x3 = (s ** 2 - x1 - x2) % m\n",
    "    y3 = (s * (x1 - x3) - y1) % m\n",
    "    return x3, y3"
   ]
  },
  {
   "cell_type": "code",
   "execution_count": null,
   "metadata": {},
   "outputs": [],
   "source": []
  },
  {
   "cell_type": "code",
   "execution_count": 4,
   "metadata": {},
   "outputs": [],
   "source": [
    "# 개인키를 생성한다.\n",
    "def generatePrivKey():\n",
    "    while(1):\n",
    "        d = random.getrandbits(256)\n",
    "        if d > 0 & d < n:\n",
    "            break\n",
    "    return d"
   ]
  },
  {
   "cell_type": "code",
   "execution_count": 5,
   "metadata": {},
   "outputs": [],
   "source": [
    "# 공개키를 생성한다\n",
    "def generatePubKey(d, g):\n",
    "    bits = bin(d)\n",
    "    bits = bits[2:len(bits)]\n",
    "    \n",
    "    # initialize. bits[0] = 1 (always)\n",
    "    K = g\n",
    "    \n",
    "    # 두 번째 비트부터 Double-and-Add\n",
    "    bits = bits[1:len(bits)]\n",
    "    for bit in bits:\n",
    "        # Double\n",
    "        K = addOperation(a, b, K, K, m)\n",
    "        \n",
    "        # Multiply\n",
    "        if bit == '1':\n",
    "            K = addOperation(a, b, K, g, m)\n",
    "    return K\n"
   ]
  },
  {
   "cell_type": "code",
   "execution_count": null,
   "metadata": {},
   "outputs": [],
   "source": []
  },
  {
   "cell_type": "code",
   "execution_count": 6,
   "metadata": {},
   "outputs": [
    {
     "name": "stdout",
     "output_type": "stream",
     "text": [
      "\n",
      "Message = 블록체인은 미래를 열어갈 기술입니다.\n",
      "\n",
      "전자서명 생성 :\n",
      "h(x) = 0xd11fc451a211f8516528493d4c31932caea68a6f614a08fb7e7c2099a1fc9686\n",
      "   r = 0xbca4cfac2ec2ab0b4b142e24f509161cdc68169c00186bcd267e22b658e2bdbc\n",
      "   s = 0xd749f45e71055992474d0af8fdc9dbb7e297b7c077af79f41e8f5da8d5daf793\n",
      "\n",
      "전자서명 확인 :\n",
      "h(x) = 0xd11fc451a211f8516528493d4c31932caea68a6f614a08fb7e7c2099a1fc9686\n",
      "   x = 0xbca4cfac2ec2ab0b4b142e24f509161cdc68169c00186bcd267e22b658e2bdbc\n",
      "   r = 0xbca4cfac2ec2ab0b4b142e24f509161cdc68169c00186bcd267e22b658e2bdbc\n",
      "\n",
      "* Valid Signature\n"
     ]
    }
   ],
   "source": [
    "# 서명할 문서\n",
    "message = '블록체인은 미래를 열어갈 기술입니다.'\n",
    "message = message.encode()\n",
    "\n",
    "# 서명자의 개인키와 공개키를 생성한다\n",
    "d = generatePrivKey()\n",
    "Q = generatePubKey(d, G)\n",
    "\n",
    "# ephemeral 키를 생성한다\n",
    "k = generatePrivKey()\n",
    "x, y = generatePubKey(k, G)\n",
    "r = x % n\n",
    "\n",
    "# Signing\n",
    "h = SHA256.new()\n",
    "h.update(message)\n",
    "hx = h.hexdigest()\n",
    "hx = int(hx, 16)\n",
    "\n",
    "invK = pow(k, n-2, n) # Fermat's Little Theorem\n",
    "s = ((hx + d * r) * invK) % n\n",
    "\n",
    "# 전자서명을 보낸다\n",
    "print(\"\\nMessage =\", message.decode())\n",
    "print(\"\\n전자서명 생성 :\")\n",
    "print(\"h(x) =\", hex(hx))\n",
    "print(\"   r =\", hex(r))\n",
    "print(\"   s =\", hex(s))\n",
    "# =====================================\n",
    "\n",
    "# Verification\n",
    "w = pow(s, n-2, n)\n",
    "u1 = (w * hx) % n\n",
    "u2 = (w * r) % n\n",
    "v1 = generatePubKey(u1, G)\n",
    "v2 = generatePubKey(u2, Q)\n",
    "x, y = addOperation(a, b, v1, v2, m)\n",
    "\n",
    "print(\"\\n전자서명 확인 :\")\n",
    "print(\"h(x) =\", hex(hx))\n",
    "print(\"   x =\", hex(x))\n",
    "print(\"   r =\", hex(r))\n",
    "\n",
    "if r == x % n:\n",
    "    print(\"\\n* Valid Signature\")\n",
    "else:\n",
    "    print(\"\\n* Invalid Signature\")"
   ]
  },
  {
   "cell_type": "code",
   "execution_count": null,
   "metadata": {},
   "outputs": [],
   "source": []
  },
  {
   "cell_type": "code",
   "execution_count": null,
   "metadata": {},
   "outputs": [],
   "source": [
    "# 출처 : 파이썬으로 배우는 블록체인 구조와 이론."
   ]
  }
 ],
 "metadata": {
  "kernelspec": {
   "display_name": "Python 3",
   "language": "python",
   "name": "python3"
  },
  "language_info": {
   "codemirror_mode": {
    "name": "ipython",
    "version": 3
   },
   "file_extension": ".py",
   "mimetype": "text/x-python",
   "name": "python",
   "nbconvert_exporter": "python",
   "pygments_lexer": "ipython3",
   "version": "3.6.10"
  }
 },
 "nbformat": 4,
 "nbformat_minor": 4
}
