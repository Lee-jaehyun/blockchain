{
 "cells": [
  {
   "cell_type": "markdown",
   "metadata": {},
   "source": [
    "# 파이썬으로 배우는 블록체인 구조와 이론"
   ]
  },
  {
   "cell_type": "markdown",
   "metadata": {},
   "source": [
    "## 공개키 기반 암호기술 (p.56)"
   ]
  },
  {
   "cell_type": "markdown",
   "metadata": {},
   "source": [
    "공개키 (비대칭키) 기반 암호 방식은 개인키(private)와 공개키(public) 을 이용한다.\n",
    "개인키와 공개키는 특별한 관계를 맺은 쌍으로 구성된다.\n",
    "\n",
    "개인키는 개인이보관(주로 지갑)하고 공개키는 타인에게 공개한다."
   ]
  },
  {
   "attachments": {},
   "cell_type": "markdown",
   "metadata": {},
   "source": [
    "개인키와 공개키는 특별한 관계를 맺고 있으므로 공개키로 암호화한 문서는 개인키로 풀 수 있다. 반대로 개인키로 암호화한 문서는 공개키로 풀 수 있다. (이 경우가 일반적으로 알고  있는 전자서명에 해당된다.)\n",
    "따라서, 이 방식은 현재 공인인증서, 전자상거래, 웹 보안, 이메일 보안 등에 널리 사용되고 있으며, 블록체인에도 핵심적인 기술로 사용되고 있다."
   ]
  },
  {
   "cell_type": "markdown",
   "metadata": {},
   "source": []
  },
  {
   "cell_type": "markdown",
   "metadata": {},
   "source": [
    "### RSA 알고리즘"
   ]
  },
  {
   "cell_type": "code",
   "execution_count": 1,
   "metadata": {},
   "outputs": [
    {
     "name": "stdout",
     "output_type": "stream",
     "text": [
      "p =  130394455384172847485407242552960616560753731304128682696883124790955943142829191903785714754996535490202130937182139258190972289395223615796031004989990584220262027289459963403169845104710813778719246654513720444188352724238959949558960172612558228154628241831724009165426601898136559064243538639985124438883\n",
      "q =  168687739725483418196880599830521537692063169339031842870164707340912842140531397254910646860407361322063484477400469621452440294223926268266056847685960410876936028520008011428395173943922890499643881938395202295435637721366894748501322289243804562348258248773979779140034533584514616116184001484510606806621\n",
      "e =  65537\n",
      "d =  12099330935979201182064426215877525414354187507539172167655063723248721213529122978455288945473393455429953017492953195628084595519055005798789766173238399600390088216952936741924486433791140494170969200423949341057683443315373918540188221135010285098517836954940493188048526042537200589502336804847700211659281548673183823657499959479304175924160444333826719138354590978881734696790697932910107984925633813509188137653047268387751072072755973525021411993195707622594508331578681451265926189510557393062696691334649936977674604695626169532142822358994628323355153919296968064176110978761177183920537530466535066559473\n",
      "\n",
      "원문 :\n",
      "I like the Blockchain. And It is very nice!\n",
      "\n",
      "\n",
      "암호문 :\n",
      "a90dd415df2e76161e98ddebff410454e62352437dc3a871f4c1ee8d71cd57b0d0d9616a1dbaccec506e2046e8ebd8ed14a81227af84c8574decfc423ef005479c9dca8ed9012b3c3b96298734705cc8f01e39a04bbb8842f6b52a57ac12da9648e6e5ddb7f543b0f977c70e397e94f17c70ca17a324a075b1b03729b72695aec5f1d3cf5faff59c570ed95e11011687468c6b2bb3d0665ae1ee0a6e5c8943e60e117303bfa91f3af6ef9e3e827276bca00bfd554317630d89b522cc139f782f2cbf2458f0f02c276fecbc014fa952a53a2dffc2b9930a461ea5849e9961970376be3be047bf22dfe3c575992e2b628013fe49ac672c40f30293274e8d1c9de7\n",
      "\n",
      "\n",
      "해독문 :\n",
      "I like the Blockchain. And It is very nice!\n"
     ]
    }
   ],
   "source": [
    "# 파이썬 실습 파일: 2-2.RSA.py\n",
    "from Crypto.PublicKey import RSA\n",
    "\n",
    "# Private key와 Public key 쌍을 생성한다.\n",
    "# Private key는 소유자가 보관하고, Public key는 공개한다. \n",
    "keyPair = RSA.generate(2048)\n",
    "privKey = keyPair.exportKey()   # 키 소유자 보관용\n",
    "pubKey = keyPair.publickey()    # 외부 공개용\n",
    "\n",
    "# keyPair의 p,q,e,d를 확인해 본다\n",
    "keyObj = RSA.importKey(privKey)\n",
    "print(\"p = \", keyObj.p)\n",
    "print(\"q = \", keyObj.q)\n",
    "print(\"e = \", keyObj.e)\n",
    "print(\"d = \", keyObj.d)\n",
    "\n",
    "# 암호화할 원문\n",
    "plainText = 'I like the Blockchain. And It is very nice!'\n",
    "print()\n",
    "print(\"원문 :\")\n",
    "print(plainText)\n",
    "\n",
    "# 공개키로 원문을 암호화한다.\n",
    "cipherText = pubKey.encrypt(plainText.encode(), 10)\n",
    "print(\"\\n\")\n",
    "print(\"암호문 :\")\n",
    "print(cipherText[0].hex())\n",
    "\n",
    "# Private key를 소유한 수신자는 자신의 Private key로 암호문을 해독한다.\n",
    "# pubKey와 쌍을 이루는 privKey 만이 이 암호문을 해독할 수 있다.\n",
    "key = RSA.importKey(privKey)\n",
    "plainText2 = key.decrypt(cipherText) \n",
    "plainText2 = plainText2.decode()\n",
    "print(\"\\n\")\n",
    "print(\"해독문 :\")\n",
    "print(plainText2)\n",
    "\n",
    "\n"
   ]
  },
  {
   "cell_type": "code",
   "execution_count": null,
   "metadata": {},
   "outputs": [],
   "source": []
  }
 ],
 "metadata": {
  "kernelspec": {
   "display_name": "Python 3",
   "language": "python",
   "name": "python3"
  },
  "language_info": {
   "codemirror_mode": {
    "name": "ipython",
    "version": 3
   },
   "file_extension": ".py",
   "mimetype": "text/x-python",
   "name": "python",
   "nbconvert_exporter": "python",
   "pygments_lexer": "ipython3",
   "version": "3.6.10"
  }
 },
 "nbformat": 4,
 "nbformat_minor": 4
}
