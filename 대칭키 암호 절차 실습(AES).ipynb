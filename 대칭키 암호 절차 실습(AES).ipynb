{
 "cells": [
  {
   "cell_type": "markdown",
   "metadata": {},
   "source": [
    "## Advanced Encryption Standard(AES) 알고리즘 연습--  파이썬으로 배우는 블록체인 구조와 이론"
   ]
  },
  {
   "cell_type": "markdown",
   "metadata": {},
   "source": [
    "### CBC(Cipher Block Chain) 모드로 암호화한다."
   ]
  },
  {
   "cell_type": "code",
   "execution_count": 1,
   "metadata": {},
   "outputs": [],
   "source": [
    "from Crypto.Cipher import AES\n",
    "from Crypto import Random\n",
    "import numpy as np"
   ]
  },
  {
   "cell_type": "code",
   "execution_count": 2,
   "metadata": {},
   "outputs": [],
   "source": [
    "## 필요한 패키지 pycrypto 의 경우, conda install 명령어로 설치를 해준다."
   ]
  },
  {
   "cell_type": "code",
   "execution_count": null,
   "metadata": {},
   "outputs": [],
   "source": []
  },
  {
   "cell_type": "code",
   "execution_count": 3,
   "metadata": {},
   "outputs": [],
   "source": [
    "# 대칭키를 만든다. 대칭키는 128, 192, 256 비트를 사용할 수 있다."
   ]
  },
  {
   "cell_type": "code",
   "execution_count": 12,
   "metadata": {},
   "outputs": [],
   "source": [
    "secretKey128 = b'0123456701234567'\n",
    "\n",
    "secretKey192 = b'012345670123456701234567'\n",
    "\n",
    "secretKey256 = b'01234567012345670123456701234567'"
   ]
  },
  {
   "cell_type": "code",
   "execution_count": null,
   "metadata": {},
   "outputs": [],
   "source": []
  },
  {
   "cell_type": "code",
   "execution_count": 13,
   "metadata": {},
   "outputs": [],
   "source": [
    "# 위에서 만든 키 값들 중에서 하나를 선택해서 사용한다."
   ]
  },
  {
   "cell_type": "code",
   "execution_count": 14,
   "metadata": {},
   "outputs": [
    {
     "name": "stdout",
     "output_type": "stream",
     "text": [
      "\n",
      "\n",
      "\n",
      "원문 :\n",
      "I would like to be a good friend!\n"
     ]
    }
   ],
   "source": [
    "secretKey = secretKey128\n",
    "plainText = 'I would like to be a good friend!'\n",
    "print(\"\\n\\n\")\n",
    "print(\"원문 :\")\n",
    "print(plainText)"
   ]
  },
  {
   "cell_type": "code",
   "execution_count": null,
   "metadata": {},
   "outputs": [],
   "source": []
  },
  {
   "cell_type": "code",
   "execution_count": 15,
   "metadata": {},
   "outputs": [],
   "source": [
    "n = len(plainText)\n",
    "if (n%16) != 0:\n",
    "    n = n+16 - (n%16)\n",
    "    plainText = plainText.ljust(n, '\\0')"
   ]
  },
  {
   "cell_type": "code",
   "execution_count": 16,
   "metadata": {},
   "outputs": [],
   "source": [
    "iv = Random.new().read(AES.block_size)\n",
    "ivcopy = np.copy(iv)   # 수신자에게 보낼 복사본"
   ]
  },
  {
   "cell_type": "code",
   "execution_count": 17,
   "metadata": {},
   "outputs": [
    {
     "name": "stdout",
     "output_type": "stream",
     "text": [
      "\n",
      "\n",
      "\n",
      "\n",
      "암호문 :\n",
      "68bf92486e8ebb6cbf988b18321e0c3cba42f0ac5ff7249d192728fa4696f85d935dbe05116e8251a92ee62596ec72c6\n"
     ]
    }
   ],
   "source": [
    "iv = Random.new().read(AES.block_size)\n",
    "ivcopy = np.copy(iv)\n",
    "aes = AES.new(secretKey, AES.MODE_CBC, iv)\n",
    "cipherText = aes.encrypt(plainText)\n",
    "print('\\n\\n\\n')\n",
    "print('암호문 :')\n",
    "print(cipherText.hex())"
   ]
  },
  {
   "cell_type": "code",
   "execution_count": 19,
   "metadata": {},
   "outputs": [
    {
     "name": "stdout",
     "output_type": "stream",
     "text": [
      "\n",
      "\n",
      "\n",
      "해독문 :\n",
      "I would like to be a good friend!\u0000\u0000\u0000\u0000\u0000\u0000\u0000\u0000\u0000\u0000\u0000\u0000\u0000\u0000\u0000\n"
     ]
    }
   ],
   "source": [
    "aes = AES.new(secretKey, AES.MODE_CBC, ivcopy)\n",
    "plainText2 = aes.decrypt(cipherText)\n",
    "plainText2 = plainText2.decode()\n",
    "print('\\n\\n')\n",
    "print('해독문 :')\n",
    "print(plainText2)"
   ]
  },
  {
   "cell_type": "code",
   "execution_count": 20,
   "metadata": {},
   "outputs": [],
   "source": [
    "# cipherText 가 암호화 한 문장, plainText2 가 복호화한 원문이 된다."
   ]
  },
  {
   "cell_type": "code",
   "execution_count": null,
   "metadata": {},
   "outputs": [],
   "source": []
  }
 ],
 "metadata": {
  "kernelspec": {
   "display_name": "Python 3",
   "language": "python",
   "name": "python3"
  },
  "language_info": {
   "codemirror_mode": {
    "name": "ipython",
    "version": 3
   },
   "file_extension": ".py",
   "mimetype": "text/x-python",
   "name": "python",
   "nbconvert_exporter": "python",
   "pygments_lexer": "ipython3",
   "version": "3.6.10"
  }
 },
 "nbformat": 4,
 "nbformat_minor": 4
}
